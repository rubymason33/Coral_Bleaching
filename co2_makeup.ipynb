{
 "cells": [
  {
   "cell_type": "code",
   "execution_count": 1,
   "id": "871bf9c1",
   "metadata": {},
   "outputs": [],
   "source": [
    "import pandas as pd\n",
    "import matplotlib.pyplot as plt\n",
    "import plotly.express as px"
   ]
  },
  {
   "cell_type": "code",
   "execution_count": 2,
   "id": "95bb2c9a",
   "metadata": {
    "scrolled": false
   },
   "outputs": [
    {
     "data": {
      "text/html": [
       "<div>\n",
       "<style scoped>\n",
       "    .dataframe tbody tr th:only-of-type {\n",
       "        vertical-align: middle;\n",
       "    }\n",
       "\n",
       "    .dataframe tbody tr th {\n",
       "        vertical-align: top;\n",
       "    }\n",
       "\n",
       "    .dataframe thead th {\n",
       "        text-align: right;\n",
       "    }\n",
       "</style>\n",
       "<table border=\"1\" class=\"dataframe\">\n",
       "  <thead>\n",
       "    <tr style=\"text-align: right;\">\n",
       "      <th></th>\n",
       "      <th>Entity</th>\n",
       "      <th>Code</th>\n",
       "      <th>Year</th>\n",
       "      <th>Agriculture</th>\n",
       "      <th>Waste</th>\n",
       "      <th>Industry</th>\n",
       "      <th>Manufacturing and construction</th>\n",
       "      <th>Transport</th>\n",
       "      <th>Electricity and heat</th>\n",
       "      <th>Buildings</th>\n",
       "      <th>Fugitive emissions</th>\n",
       "      <th>Other fuel combustion</th>\n",
       "      <th>Aviation and shipping</th>\n",
       "    </tr>\n",
       "  </thead>\n",
       "  <tbody>\n",
       "    <tr>\n",
       "      <th>5820</th>\n",
       "      <td>United States</td>\n",
       "      <td>USA</td>\n",
       "      <td>1990</td>\n",
       "      <td>3.578200e+08</td>\n",
       "      <td>1.993400e+08</td>\n",
       "      <td>1.647100e+08</td>\n",
       "      <td>6.069000e+08</td>\n",
       "      <td>1.468600e+09</td>\n",
       "      <td>2.171630e+09</td>\n",
       "      <td>5.478900e+08</td>\n",
       "      <td>2.481900e+08</td>\n",
       "      <td>6.905000e+07</td>\n",
       "      <td>1.320800e+08</td>\n",
       "    </tr>\n",
       "    <tr>\n",
       "      <th>5821</th>\n",
       "      <td>United States</td>\n",
       "      <td>USA</td>\n",
       "      <td>1991</td>\n",
       "      <td>3.589300e+08</td>\n",
       "      <td>2.019000e+08</td>\n",
       "      <td>1.543100e+08</td>\n",
       "      <td>5.692900e+08</td>\n",
       "      <td>1.440670e+09</td>\n",
       "      <td>2.191740e+09</td>\n",
       "      <td>5.577100e+08</td>\n",
       "      <td>2.471700e+08</td>\n",
       "      <td>6.718000e+07</td>\n",
       "      <td>1.384100e+08</td>\n",
       "    </tr>\n",
       "    <tr>\n",
       "      <th>5822</th>\n",
       "      <td>United States</td>\n",
       "      <td>USA</td>\n",
       "      <td>1992</td>\n",
       "      <td>3.664500e+08</td>\n",
       "      <td>2.020800e+08</td>\n",
       "      <td>1.573100e+08</td>\n",
       "      <td>5.200000e+08</td>\n",
       "      <td>1.472870e+09</td>\n",
       "      <td>2.289280e+09</td>\n",
       "      <td>5.676000e+08</td>\n",
       "      <td>2.468500e+08</td>\n",
       "      <td>5.052000e+07</td>\n",
       "      <td>1.453700e+08</td>\n",
       "    </tr>\n",
       "    <tr>\n",
       "      <th>5823</th>\n",
       "      <td>United States</td>\n",
       "      <td>USA</td>\n",
       "      <td>1993</td>\n",
       "      <td>3.676000e+08</td>\n",
       "      <td>2.002200e+08</td>\n",
       "      <td>1.605700e+08</td>\n",
       "      <td>5.345200e+08</td>\n",
       "      <td>1.497050e+09</td>\n",
       "      <td>2.348060e+09</td>\n",
       "      <td>5.933400e+08</td>\n",
       "      <td>2.377600e+08</td>\n",
       "      <td>4.525000e+07</td>\n",
       "      <td>1.337400e+08</td>\n",
       "    </tr>\n",
       "    <tr>\n",
       "      <th>5824</th>\n",
       "      <td>United States</td>\n",
       "      <td>USA</td>\n",
       "      <td>1994</td>\n",
       "      <td>3.775100e+08</td>\n",
       "      <td>2.005200e+08</td>\n",
       "      <td>1.655100e+08</td>\n",
       "      <td>5.369500e+08</td>\n",
       "      <td>1.551220e+09</td>\n",
       "      <td>2.373440e+09</td>\n",
       "      <td>5.834500e+08</td>\n",
       "      <td>2.439000e+08</td>\n",
       "      <td>4.602000e+07</td>\n",
       "      <td>1.314100e+08</td>\n",
       "    </tr>\n",
       "  </tbody>\n",
       "</table>\n",
       "</div>"
      ],
      "text/plain": [
       "             Entity Code  Year   Agriculture         Waste      Industry  \\\n",
       "5820  United States  USA  1990  3.578200e+08  1.993400e+08  1.647100e+08   \n",
       "5821  United States  USA  1991  3.589300e+08  2.019000e+08  1.543100e+08   \n",
       "5822  United States  USA  1992  3.664500e+08  2.020800e+08  1.573100e+08   \n",
       "5823  United States  USA  1993  3.676000e+08  2.002200e+08  1.605700e+08   \n",
       "5824  United States  USA  1994  3.775100e+08  2.005200e+08  1.655100e+08   \n",
       "\n",
       "      Manufacturing and construction     Transport  Electricity and heat  \\\n",
       "5820                    6.069000e+08  1.468600e+09          2.171630e+09   \n",
       "5821                    5.692900e+08  1.440670e+09          2.191740e+09   \n",
       "5822                    5.200000e+08  1.472870e+09          2.289280e+09   \n",
       "5823                    5.345200e+08  1.497050e+09          2.348060e+09   \n",
       "5824                    5.369500e+08  1.551220e+09          2.373440e+09   \n",
       "\n",
       "         Buildings  Fugitive emissions  Other fuel combustion  \\\n",
       "5820  5.478900e+08        2.481900e+08           6.905000e+07   \n",
       "5821  5.577100e+08        2.471700e+08           6.718000e+07   \n",
       "5822  5.676000e+08        2.468500e+08           5.052000e+07   \n",
       "5823  5.933400e+08        2.377600e+08           4.525000e+07   \n",
       "5824  5.834500e+08        2.439000e+08           4.602000e+07   \n",
       "\n",
       "      Aviation and shipping  \n",
       "5820           1.320800e+08  \n",
       "5821           1.384100e+08  \n",
       "5822           1.453700e+08  \n",
       "5823           1.337400e+08  \n",
       "5824           1.314100e+08  "
      ]
     },
     "execution_count": 2,
     "metadata": {},
     "output_type": "execute_result"
    }
   ],
   "source": [
    "# read csv file\n",
    "data = pd.read_csv('ghg-emissions-by-sector.csv')\n",
    "\n",
    "# only grab the data from the US\n",
    "data = data.loc[data.Code == 'USA']\n",
    "\n",
    "# drop landuse\n",
    "data.drop(columns='Land-use change and forestry',inplace=True)\n",
    "data.head()"
   ]
  },
  {
   "cell_type": "code",
   "execution_count": 19,
   "id": "12a90c36",
   "metadata": {},
   "outputs": [
    {
     "data": {
      "text/html": [
       "<div>\n",
       "<style scoped>\n",
       "    .dataframe tbody tr th:only-of-type {\n",
       "        vertical-align: middle;\n",
       "    }\n",
       "\n",
       "    .dataframe tbody tr th {\n",
       "        vertical-align: top;\n",
       "    }\n",
       "\n",
       "    .dataframe thead th {\n",
       "        text-align: right;\n",
       "    }\n",
       "</style>\n",
       "<table border=\"1\" class=\"dataframe\">\n",
       "  <thead>\n",
       "    <tr style=\"text-align: right;\">\n",
       "      <th></th>\n",
       "      <th>Entity</th>\n",
       "      <th>Code</th>\n",
       "      <th>Year</th>\n",
       "      <th>Agriculture</th>\n",
       "      <th>Waste</th>\n",
       "      <th>Industry</th>\n",
       "      <th>Manufacturing and construction</th>\n",
       "      <th>Transport</th>\n",
       "      <th>Electricity and heat</th>\n",
       "      <th>Buildings</th>\n",
       "      <th>Fugitive emissions</th>\n",
       "      <th>Other fuel combustion</th>\n",
       "      <th>Aviation and shipping</th>\n",
       "      <th>Total_co2</th>\n",
       "    </tr>\n",
       "  </thead>\n",
       "  <tbody>\n",
       "    <tr>\n",
       "      <th>5820</th>\n",
       "      <td>United States</td>\n",
       "      <td>USA</td>\n",
       "      <td>1990</td>\n",
       "      <td>3.578200e+08</td>\n",
       "      <td>1.993400e+08</td>\n",
       "      <td>1.647100e+08</td>\n",
       "      <td>6.069000e+08</td>\n",
       "      <td>1.468600e+09</td>\n",
       "      <td>2.171630e+09</td>\n",
       "      <td>5.478900e+08</td>\n",
       "      <td>2.481900e+08</td>\n",
       "      <td>6.905000e+07</td>\n",
       "      <td>1.320800e+08</td>\n",
       "      <td>1.789863e+10</td>\n",
       "    </tr>\n",
       "    <tr>\n",
       "      <th>5821</th>\n",
       "      <td>United States</td>\n",
       "      <td>USA</td>\n",
       "      <td>1991</td>\n",
       "      <td>3.589300e+08</td>\n",
       "      <td>2.019000e+08</td>\n",
       "      <td>1.543100e+08</td>\n",
       "      <td>5.692900e+08</td>\n",
       "      <td>1.440670e+09</td>\n",
       "      <td>2.191740e+09</td>\n",
       "      <td>5.577100e+08</td>\n",
       "      <td>2.471700e+08</td>\n",
       "      <td>6.718000e+07</td>\n",
       "      <td>1.384100e+08</td>\n",
       "      <td>1.778193e+10</td>\n",
       "    </tr>\n",
       "    <tr>\n",
       "      <th>5822</th>\n",
       "      <td>United States</td>\n",
       "      <td>USA</td>\n",
       "      <td>1992</td>\n",
       "      <td>3.664500e+08</td>\n",
       "      <td>2.020800e+08</td>\n",
       "      <td>1.573100e+08</td>\n",
       "      <td>5.200000e+08</td>\n",
       "      <td>1.472870e+09</td>\n",
       "      <td>2.289280e+09</td>\n",
       "      <td>5.676000e+08</td>\n",
       "      <td>2.468500e+08</td>\n",
       "      <td>5.052000e+07</td>\n",
       "      <td>1.453700e+08</td>\n",
       "      <td>1.805499e+10</td>\n",
       "    </tr>\n",
       "    <tr>\n",
       "      <th>5823</th>\n",
       "      <td>United States</td>\n",
       "      <td>USA</td>\n",
       "      <td>1993</td>\n",
       "      <td>3.676000e+08</td>\n",
       "      <td>2.002200e+08</td>\n",
       "      <td>1.605700e+08</td>\n",
       "      <td>5.345200e+08</td>\n",
       "      <td>1.497050e+09</td>\n",
       "      <td>2.348060e+09</td>\n",
       "      <td>5.933400e+08</td>\n",
       "      <td>2.377600e+08</td>\n",
       "      <td>4.525000e+07</td>\n",
       "      <td>1.337400e+08</td>\n",
       "      <td>1.835433e+10</td>\n",
       "    </tr>\n",
       "    <tr>\n",
       "      <th>5824</th>\n",
       "      <td>United States</td>\n",
       "      <td>USA</td>\n",
       "      <td>1994</td>\n",
       "      <td>3.775100e+08</td>\n",
       "      <td>2.005200e+08</td>\n",
       "      <td>1.655100e+08</td>\n",
       "      <td>5.369500e+08</td>\n",
       "      <td>1.551220e+09</td>\n",
       "      <td>2.373440e+09</td>\n",
       "      <td>5.834500e+08</td>\n",
       "      <td>2.439000e+08</td>\n",
       "      <td>4.602000e+07</td>\n",
       "      <td>1.314100e+08</td>\n",
       "      <td>1.862979e+10</td>\n",
       "    </tr>\n",
       "  </tbody>\n",
       "</table>\n",
       "</div>"
      ],
      "text/plain": [
       "             Entity Code  Year   Agriculture         Waste      Industry  \\\n",
       "5820  United States  USA  1990  3.578200e+08  1.993400e+08  1.647100e+08   \n",
       "5821  United States  USA  1991  3.589300e+08  2.019000e+08  1.543100e+08   \n",
       "5822  United States  USA  1992  3.664500e+08  2.020800e+08  1.573100e+08   \n",
       "5823  United States  USA  1993  3.676000e+08  2.002200e+08  1.605700e+08   \n",
       "5824  United States  USA  1994  3.775100e+08  2.005200e+08  1.655100e+08   \n",
       "\n",
       "      Manufacturing and construction     Transport  Electricity and heat  \\\n",
       "5820                    6.069000e+08  1.468600e+09          2.171630e+09   \n",
       "5821                    5.692900e+08  1.440670e+09          2.191740e+09   \n",
       "5822                    5.200000e+08  1.472870e+09          2.289280e+09   \n",
       "5823                    5.345200e+08  1.497050e+09          2.348060e+09   \n",
       "5824                    5.369500e+08  1.551220e+09          2.373440e+09   \n",
       "\n",
       "         Buildings  Fugitive emissions  Other fuel combustion  \\\n",
       "5820  5.478900e+08        2.481900e+08           6.905000e+07   \n",
       "5821  5.577100e+08        2.471700e+08           6.718000e+07   \n",
       "5822  5.676000e+08        2.468500e+08           5.052000e+07   \n",
       "5823  5.933400e+08        2.377600e+08           4.525000e+07   \n",
       "5824  5.834500e+08        2.439000e+08           4.602000e+07   \n",
       "\n",
       "      Aviation and shipping     Total_co2  \n",
       "5820           1.320800e+08  1.789863e+10  \n",
       "5821           1.384100e+08  1.778193e+10  \n",
       "5822           1.453700e+08  1.805499e+10  \n",
       "5823           1.337400e+08  1.835433e+10  \n",
       "5824           1.314100e+08  1.862979e+10  "
      ]
     },
     "execution_count": 19,
     "metadata": {},
     "output_type": "execute_result"
    }
   ],
   "source": [
    "# sum up total co2\n",
    "factors = list(data.columns[3:])\n",
    "data['Total_co2'] = data[factors].sum(axis=1)\n",
    "data.head()"
   ]
  },
  {
   "cell_type": "code",
   "execution_count": 14,
   "id": "425d4cfc",
   "metadata": {},
   "outputs": [
    {
     "data": {
      "application/vnd.plotly.v1+json": {
       "config": {
        "plotlyServerURL": "https://plot.ly"
       },
       "data": [
        {
         "alignmentgroup": "True",
         "hovertemplate": "Source=Agriculture<br>Year=%{x}<br>Amount of CO2 (tons)=%{y}<extra></extra>",
         "legendgroup": "Agriculture",
         "marker": {
          "color": "#636efa",
          "pattern": {
           "shape": ""
          }
         },
         "name": "Agriculture",
         "offsetgroup": "Agriculture",
         "orientation": "v",
         "showlegend": true,
         "textposition": "auto",
         "type": "bar",
         "x": [
          1990,
          1991,
          1992,
          1993,
          1994,
          1995,
          1996,
          1997,
          1998,
          1999,
          2000,
          2001,
          2002,
          2003,
          2004,
          2005,
          2006,
          2007,
          2008,
          2009,
          2010,
          2011,
          2012,
          2013,
          2014,
          2015,
          2016,
          2017,
          2018,
          2019
         ],
         "xaxis": "x",
         "y": [
          357820007.32421875,
          358929992.67578125,
          366450012.2070313,
          367600006.1035156,
          377510009.765625,
          375809997.55859375,
          380339996.3378906,
          378989990.234375,
          377299987.7929687,
          374730010.9863281,
          369040008.5449219,
          367000000,
          366359985.3515625,
          371290008.5449219,
          372859985.3515625,
          371769989.0136719,
          375399993.8964844,
          378980010.9863281,
          377600006.1035156,
          371690002.44140625,
          373600006.1035156,
          374929992.6757813,
          371850006.1035156,
          370940002.44140625,
          370820007.3242187,
          370070007.3242187,
          381450012.2070313,
          380869995.1171875,
          383989990.234375,
          381829986.5722656
         ],
         "yaxis": "y"
        },
        {
         "alignmentgroup": "True",
         "hovertemplate": "Source=Waste<br>Year=%{x}<br>Amount of CO2 (tons)=%{y}<extra></extra>",
         "legendgroup": "Waste",
         "marker": {
          "color": "#EF553B",
          "pattern": {
           "shape": ""
          }
         },
         "name": "Waste",
         "offsetgroup": "Waste",
         "orientation": "v",
         "showlegend": true,
         "textposition": "auto",
         "type": "bar",
         "x": [
          1990,
          1991,
          1992,
          1993,
          1994,
          1995,
          1996,
          1997,
          1998,
          1999,
          2000,
          2001,
          2002,
          2003,
          2004,
          2005,
          2006,
          2007,
          2008,
          2009,
          2010,
          2011,
          2012,
          2013,
          2014,
          2015,
          2016,
          2017,
          2018,
          2019
         ],
         "xaxis": "x",
         "y": [
          199339996.33789065,
          201899993.8964844,
          202080001.8310547,
          200220001.22070312,
          200520004.27246097,
          195750000,
          192389999.38964844,
          183259994.5068359,
          173820007.32421875,
          167630004.8828125,
          164690002.44140625,
          159809997.55859375,
          157990005.49316406,
          160860000.61035156,
          158529998.77929688,
          156440002.44140625,
          154350006.10351562,
          152339996.33789062,
          150220001.22070312,
          147449996.9482422,
          148270004.27246094,
          139229995.72753906,
          140309997.55859375,
          136429992.67578125,
          136100006.10351562,
          135199996.9482422,
          131029998.77929688,
          132130004.8828125,
          133240005.49316406,
          134350006.10351562
         ],
         "yaxis": "y"
        },
        {
         "alignmentgroup": "True",
         "hovertemplate": "Source=Industry<br>Year=%{x}<br>Amount of CO2 (tons)=%{y}<extra></extra>",
         "legendgroup": "Industry",
         "marker": {
          "color": "#00cc96",
          "pattern": {
           "shape": ""
          }
         },
         "name": "Industry",
         "offsetgroup": "Industry",
         "orientation": "v",
         "showlegend": true,
         "textposition": "auto",
         "type": "bar",
         "x": [
          1990,
          1991,
          1992,
          1993,
          1994,
          1995,
          1996,
          1997,
          1998,
          1999,
          2000,
          2001,
          2002,
          2003,
          2004,
          2005,
          2006,
          2007,
          2008,
          2009,
          2010,
          2011,
          2012,
          2013,
          2014,
          2015,
          2016,
          2017,
          2018,
          2019
         ],
         "xaxis": "x",
         "y": [
          164710006.7138672,
          154309997.55859375,
          157309997.55859375,
          160570007.32421875,
          165509994.50683594,
          187539993.2861328,
          197279998.77929688,
          198509994.5068359,
          209710006.7138672,
          206139999.38964844,
          208699996.9482422,
          192089996.33789065,
          202070007.32421875,
          191490005.4931641,
          199029998.77929688,
          204419998.1689453,
          208389999.38964844,
          221720001.22070312,
          208910003.66210935,
          190550003.0517578,
          204589996.33789065,
          217000000,
          210149993.8964844,
          209350006.1035156,
          219360000.61035156,
          221220001.22070312,
          222020004.27246097,
          227960006.7138672,
          231669998.1689453,
          238669998.1689453
         ],
         "yaxis": "y"
        },
        {
         "alignmentgroup": "True",
         "hovertemplate": "Source=Manufacturing and construction<br>Year=%{x}<br>Amount of CO2 (tons)=%{y}<extra></extra>",
         "legendgroup": "Manufacturing and construction",
         "marker": {
          "color": "#ab63fa",
          "pattern": {
           "shape": ""
          }
         },
         "name": "Manufacturing and construction",
         "offsetgroup": "Manufacturing and construction",
         "orientation": "v",
         "showlegend": true,
         "textposition": "auto",
         "type": "bar",
         "x": [
          1990,
          1991,
          1992,
          1993,
          1994,
          1995,
          1996,
          1997,
          1998,
          1999,
          2000,
          2001,
          2002,
          2003,
          2004,
          2005,
          2006,
          2007,
          2008,
          2009,
          2010,
          2011,
          2012,
          2013,
          2014,
          2015,
          2016,
          2017,
          2018,
          2019
         ],
         "xaxis": "x",
         "y": [
          606900024.4140625,
          569289978.0273438,
          520000000,
          534520019.53125,
          536950012.2070312,
          488950012.2070313,
          488029998.7792969,
          509029998.7792969,
          515150024.4140625,
          503350006.1035156,
          571299987.7929688,
          543770019.53125,
          494170013.4277344,
          488959991.4550781,
          515450012.2070313,
          481140014.6484375,
          500010009.765625,
          489980010.9863281,
          478519989.0136719,
          410850006.1035156,
          469899993.8964844,
          439100006.1035156,
          441920013.4277344,
          438239990.234375,
          440619995.1171875,
          437190002.44140625,
          442309997.55859375,
          432700012.2070313,
          457690002.44140625,
          442600006.1035156
         ],
         "yaxis": "y"
        },
        {
         "alignmentgroup": "True",
         "hovertemplate": "Source=Transport<br>Year=%{x}<br>Amount of CO2 (tons)=%{y}<extra></extra>",
         "legendgroup": "Transport",
         "marker": {
          "color": "#FFA15A",
          "pattern": {
           "shape": ""
          }
         },
         "name": "Transport",
         "offsetgroup": "Transport",
         "orientation": "v",
         "showlegend": true,
         "textposition": "auto",
         "type": "bar",
         "x": [
          1990,
          1991,
          1992,
          1993,
          1994,
          1995,
          1996,
          1997,
          1998,
          1999,
          2000,
          2001,
          2002,
          2003,
          2004,
          2005,
          2006,
          2007,
          2008,
          2009,
          2010,
          2011,
          2012,
          2013,
          2014,
          2015,
          2016,
          2017,
          2018,
          2019
         ],
         "xaxis": "x",
         "y": [
          1468599975.5859375,
          1440670043.9453125,
          1472869995.1171875,
          1497050048.828125,
          1551219970.703125,
          1583180053.7109375,
          1623420043.9453125,
          1648880004.8828125,
          1688189941.40625,
          1735150024.4140625,
          1767780029.296875,
          1770170043.9453125,
          1792969970.703125,
          1818939941.40625,
          1842000000,
          1861920043.9453125,
          1861329956.0546875,
          1862030029.296875,
          1761589965.8203125,
          1674020019.53125,
          1733130004.8828125,
          1686209960.9375,
          1650089965.8203125,
          1701510009.765625,
          1694599975.5859375,
          1756630004.8828125,
          1768760009.765625,
          1781510009.765625,
          1820880004.8828125,
          1815660034.1796875
         ],
         "yaxis": "y"
        },
        {
         "alignmentgroup": "True",
         "hovertemplate": "Source=Electricity and heat<br>Year=%{x}<br>Amount of CO2 (tons)=%{y}<extra></extra>",
         "legendgroup": "Electricity and heat",
         "marker": {
          "color": "#19d3f3",
          "pattern": {
           "shape": ""
          }
         },
         "name": "Electricity and heat",
         "offsetgroup": "Electricity and heat",
         "orientation": "v",
         "showlegend": true,
         "textposition": "auto",
         "type": "bar",
         "x": [
          1990,
          1991,
          1992,
          1993,
          1994,
          1995,
          1996,
          1997,
          1998,
          1999,
          2000,
          2001,
          2002,
          2003,
          2004,
          2005,
          2006,
          2007,
          2008,
          2009,
          2010,
          2011,
          2012,
          2013,
          2014,
          2015,
          2016,
          2017,
          2018,
          2019
         ],
         "xaxis": "x",
         "y": [
          2171629882.8125,
          2191739990.234375,
          2289280029.296875,
          2348060058.59375,
          2373439941.40625,
          2436260009.765625,
          2517459960.9375,
          2756790039.0625,
          2814449951.171875,
          2782070068.359375,
          2814149902.34375,
          2825560058.59375,
          2692120117.1875,
          2720100097.65625,
          2754540039.0625,
          2803760009.765625,
          2734979980.46875,
          2801709960.9375,
          2731600097.65625,
          2499979980.46875,
          2620929931.640625,
          2499530029.296875,
          2370169921.875,
          2388770019.53125,
          2386489990.234375,
          2243239990.234375,
          2154189941.40625,
          2072959960.9375,
          2105010009.765625,
          1965560058.59375
         ],
         "yaxis": "y"
        },
        {
         "alignmentgroup": "True",
         "hovertemplate": "Source=Buildings<br>Year=%{x}<br>Amount of CO2 (tons)=%{y}<extra></extra>",
         "legendgroup": "Buildings",
         "marker": {
          "color": "#FF6692",
          "pattern": {
           "shape": ""
          }
         },
         "name": "Buildings",
         "offsetgroup": "Buildings",
         "orientation": "v",
         "showlegend": true,
         "textposition": "auto",
         "type": "bar",
         "x": [
          1990,
          1991,
          1992,
          1993,
          1994,
          1995,
          1996,
          1997,
          1998,
          1999,
          2000,
          2001,
          2002,
          2003,
          2004,
          2005,
          2006,
          2007,
          2008,
          2009,
          2010,
          2011,
          2012,
          2013,
          2014,
          2015,
          2016,
          2017,
          2018,
          2019
         ],
         "xaxis": "x",
         "y": [
          547890014.6484375,
          557710021.9726562,
          567599975.5859375,
          593340026.8554688,
          583450012.2070312,
          588150024.4140625,
          624580017.0898438,
          607080017.0898438,
          555619995.1171875,
          573859985.3515625,
          605789978.0273438,
          587640014.6484375,
          588010009.765625,
          612109985.3515625,
          596640014.6484375,
          578880004.8828125,
          523429992.6757813,
          555320007.3242188,
          562809997.5585938,
          557739990.234375,
          552169982.9101562,
          529049987.7929687,
          466350006.1035156,
          535270019.53125,
          552640014.6484375,
          518710021.97265625,
          501940002.44140625,
          503029998.7792969,
          556969970.703125,
          557570007.3242188
         ],
         "yaxis": "y"
        },
        {
         "alignmentgroup": "True",
         "hovertemplate": "Source=Fugitive emissions<br>Year=%{x}<br>Amount of CO2 (tons)=%{y}<extra></extra>",
         "legendgroup": "Fugitive emissions",
         "marker": {
          "color": "#B6E880",
          "pattern": {
           "shape": ""
          }
         },
         "name": "Fugitive emissions",
         "offsetgroup": "Fugitive emissions",
         "orientation": "v",
         "showlegend": true,
         "textposition": "auto",
         "type": "bar",
         "x": [
          1990,
          1991,
          1992,
          1993,
          1994,
          1995,
          1996,
          1997,
          1998,
          1999,
          2000,
          2001,
          2002,
          2003,
          2004,
          2005,
          2006,
          2007,
          2008,
          2009,
          2010,
          2011,
          2012,
          2013,
          2014,
          2015,
          2016,
          2017,
          2018,
          2019
         ],
         "xaxis": "x",
         "y": [
          248190002.44140625,
          247169998.1689453,
          246850006.1035156,
          237759994.5068359,
          243899993.8964844,
          244809997.55859375,
          245759994.5068359,
          247850006.1035156,
          246410003.66210935,
          240690002.44140625,
          241259994.5068359,
          242039993.2861328,
          238190002.44140625,
          236380004.8828125,
          236710006.7138672,
          239039993.2861328,
          242410003.66210935,
          249149993.8964844,
          258600006.1035156,
          255649993.8964844,
          272440002.44140625,
          295859985.3515625,
          313570007.32421875,
          320890014.6484375,
          348000000,
          351160003.6621094,
          325649993.8964844,
          341570007.32421875,
          385260009.765625,
          425070007.3242187
         ],
         "yaxis": "y"
        },
        {
         "alignmentgroup": "True",
         "hovertemplate": "Source=Other fuel combustion<br>Year=%{x}<br>Amount of CO2 (tons)=%{y}<extra></extra>",
         "legendgroup": "Other fuel combustion",
         "marker": {
          "color": "#FF97FF",
          "pattern": {
           "shape": ""
          }
         },
         "name": "Other fuel combustion",
         "offsetgroup": "Other fuel combustion",
         "orientation": "v",
         "showlegend": true,
         "textposition": "auto",
         "type": "bar",
         "x": [
          1990,
          1991,
          1992,
          1993,
          1994,
          1995,
          1996,
          1997,
          1998,
          1999,
          2000,
          2001,
          2002,
          2003,
          2004,
          2005,
          2006,
          2007,
          2008,
          2009,
          2010,
          2011,
          2012,
          2013,
          2014,
          2015,
          2016,
          2017,
          2018,
          2019
         ],
         "xaxis": "x",
         "y": [
          69050003.05175781,
          67180000.30517578,
          50520000.45776367,
          45250000,
          46020000.45776367,
          46060001.373291016,
          47200000.76293945,
          47669998.16894531,
          43799999.23706055,
          41669998.16894531,
          44779998.779296875,
          47939998.626708984,
          50750000,
          45490001.6784668,
          56520000.45776367,
          55470001.220703125,
          60509998.3215332,
          56240001.6784668,
          53979999.54223633,
          50459999.084472656,
          52110000.61035156,
          48700000.76293945,
          46709999.084472656,
          50770000.45776367,
          48779998.779296875,
          48740001.6784668,
          46849998.474121094,
          46029998.779296875,
          46909999.84741211,
          39900001.525878906
         ],
         "yaxis": "y"
        },
        {
         "alignmentgroup": "True",
         "hovertemplate": "Source=Aviation and shipping<br>Year=%{x}<br>Amount of CO2 (tons)=%{y}<extra></extra>",
         "legendgroup": "Aviation and shipping",
         "marker": {
          "color": "#FECB52",
          "pattern": {
           "shape": ""
          }
         },
         "name": "Aviation and shipping",
         "offsetgroup": "Aviation and shipping",
         "orientation": "v",
         "showlegend": true,
         "textposition": "auto",
         "type": "bar",
         "x": [
          1990,
          1991,
          1992,
          1993,
          1994,
          1995,
          1996,
          1997,
          1998,
          1999,
          2000,
          2001,
          2002,
          2003,
          2004,
          2005,
          2006,
          2007,
          2008,
          2009,
          2010,
          2011,
          2012,
          2013,
          2014,
          2015,
          2016,
          2017,
          2018,
          2019
         ],
         "xaxis": "x",
         "y": [
          132080001.83105467,
          138410003.66210938,
          145369995.1171875,
          133740005.49316406,
          131410003.66210938,
          139199996.9482422,
          135899993.89648438,
          127930000.30517578,
          127680000.30517578,
          141820007.32421875,
          148919998.1689453,
          115360000.61035156,
          140130004.8828125,
          124230003.3569336,
          142559997.55859375,
          152929992.67578125,
          159800003.0517578,
          169669998.1689453,
          155529998.77929688,
          142470001.22070312,
          150210006.7138672,
          147009994.50683594,
          120510002.13623048,
          119430000.30517578,
          120069999.69482422,
          125639999.38964844,
          138119995.1171875,
          149619995.1171875,
          140919998.1689453,
          150169998.1689453
         ],
         "yaxis": "y"
        }
       ],
       "layout": {
        "autosize": false,
        "barmode": "relative",
        "height": 500,
        "legend": {
         "title": {
          "text": "Source"
         },
         "tracegroupgap": 0
        },
        "template": {
         "data": {
          "bar": [
           {
            "error_x": {
             "color": "#2a3f5f"
            },
            "error_y": {
             "color": "#2a3f5f"
            },
            "marker": {
             "line": {
              "color": "#E5ECF6",
              "width": 0.5
             },
             "pattern": {
              "fillmode": "overlay",
              "size": 10,
              "solidity": 0.2
             }
            },
            "type": "bar"
           }
          ],
          "barpolar": [
           {
            "marker": {
             "line": {
              "color": "#E5ECF6",
              "width": 0.5
             },
             "pattern": {
              "fillmode": "overlay",
              "size": 10,
              "solidity": 0.2
             }
            },
            "type": "barpolar"
           }
          ],
          "carpet": [
           {
            "aaxis": {
             "endlinecolor": "#2a3f5f",
             "gridcolor": "white",
             "linecolor": "white",
             "minorgridcolor": "white",
             "startlinecolor": "#2a3f5f"
            },
            "baxis": {
             "endlinecolor": "#2a3f5f",
             "gridcolor": "white",
             "linecolor": "white",
             "minorgridcolor": "white",
             "startlinecolor": "#2a3f5f"
            },
            "type": "carpet"
           }
          ],
          "choropleth": [
           {
            "colorbar": {
             "outlinewidth": 0,
             "ticks": ""
            },
            "type": "choropleth"
           }
          ],
          "contour": [
           {
            "colorbar": {
             "outlinewidth": 0,
             "ticks": ""
            },
            "colorscale": [
             [
              0,
              "#0d0887"
             ],
             [
              0.1111111111111111,
              "#46039f"
             ],
             [
              0.2222222222222222,
              "#7201a8"
             ],
             [
              0.3333333333333333,
              "#9c179e"
             ],
             [
              0.4444444444444444,
              "#bd3786"
             ],
             [
              0.5555555555555556,
              "#d8576b"
             ],
             [
              0.6666666666666666,
              "#ed7953"
             ],
             [
              0.7777777777777778,
              "#fb9f3a"
             ],
             [
              0.8888888888888888,
              "#fdca26"
             ],
             [
              1,
              "#f0f921"
             ]
            ],
            "type": "contour"
           }
          ],
          "contourcarpet": [
           {
            "colorbar": {
             "outlinewidth": 0,
             "ticks": ""
            },
            "type": "contourcarpet"
           }
          ],
          "heatmap": [
           {
            "colorbar": {
             "outlinewidth": 0,
             "ticks": ""
            },
            "colorscale": [
             [
              0,
              "#0d0887"
             ],
             [
              0.1111111111111111,
              "#46039f"
             ],
             [
              0.2222222222222222,
              "#7201a8"
             ],
             [
              0.3333333333333333,
              "#9c179e"
             ],
             [
              0.4444444444444444,
              "#bd3786"
             ],
             [
              0.5555555555555556,
              "#d8576b"
             ],
             [
              0.6666666666666666,
              "#ed7953"
             ],
             [
              0.7777777777777778,
              "#fb9f3a"
             ],
             [
              0.8888888888888888,
              "#fdca26"
             ],
             [
              1,
              "#f0f921"
             ]
            ],
            "type": "heatmap"
           }
          ],
          "heatmapgl": [
           {
            "colorbar": {
             "outlinewidth": 0,
             "ticks": ""
            },
            "colorscale": [
             [
              0,
              "#0d0887"
             ],
             [
              0.1111111111111111,
              "#46039f"
             ],
             [
              0.2222222222222222,
              "#7201a8"
             ],
             [
              0.3333333333333333,
              "#9c179e"
             ],
             [
              0.4444444444444444,
              "#bd3786"
             ],
             [
              0.5555555555555556,
              "#d8576b"
             ],
             [
              0.6666666666666666,
              "#ed7953"
             ],
             [
              0.7777777777777778,
              "#fb9f3a"
             ],
             [
              0.8888888888888888,
              "#fdca26"
             ],
             [
              1,
              "#f0f921"
             ]
            ],
            "type": "heatmapgl"
           }
          ],
          "histogram": [
           {
            "marker": {
             "pattern": {
              "fillmode": "overlay",
              "size": 10,
              "solidity": 0.2
             }
            },
            "type": "histogram"
           }
          ],
          "histogram2d": [
           {
            "colorbar": {
             "outlinewidth": 0,
             "ticks": ""
            },
            "colorscale": [
             [
              0,
              "#0d0887"
             ],
             [
              0.1111111111111111,
              "#46039f"
             ],
             [
              0.2222222222222222,
              "#7201a8"
             ],
             [
              0.3333333333333333,
              "#9c179e"
             ],
             [
              0.4444444444444444,
              "#bd3786"
             ],
             [
              0.5555555555555556,
              "#d8576b"
             ],
             [
              0.6666666666666666,
              "#ed7953"
             ],
             [
              0.7777777777777778,
              "#fb9f3a"
             ],
             [
              0.8888888888888888,
              "#fdca26"
             ],
             [
              1,
              "#f0f921"
             ]
            ],
            "type": "histogram2d"
           }
          ],
          "histogram2dcontour": [
           {
            "colorbar": {
             "outlinewidth": 0,
             "ticks": ""
            },
            "colorscale": [
             [
              0,
              "#0d0887"
             ],
             [
              0.1111111111111111,
              "#46039f"
             ],
             [
              0.2222222222222222,
              "#7201a8"
             ],
             [
              0.3333333333333333,
              "#9c179e"
             ],
             [
              0.4444444444444444,
              "#bd3786"
             ],
             [
              0.5555555555555556,
              "#d8576b"
             ],
             [
              0.6666666666666666,
              "#ed7953"
             ],
             [
              0.7777777777777778,
              "#fb9f3a"
             ],
             [
              0.8888888888888888,
              "#fdca26"
             ],
             [
              1,
              "#f0f921"
             ]
            ],
            "type": "histogram2dcontour"
           }
          ],
          "mesh3d": [
           {
            "colorbar": {
             "outlinewidth": 0,
             "ticks": ""
            },
            "type": "mesh3d"
           }
          ],
          "parcoords": [
           {
            "line": {
             "colorbar": {
              "outlinewidth": 0,
              "ticks": ""
             }
            },
            "type": "parcoords"
           }
          ],
          "pie": [
           {
            "automargin": true,
            "type": "pie"
           }
          ],
          "scatter": [
           {
            "fillpattern": {
             "fillmode": "overlay",
             "size": 10,
             "solidity": 0.2
            },
            "type": "scatter"
           }
          ],
          "scatter3d": [
           {
            "line": {
             "colorbar": {
              "outlinewidth": 0,
              "ticks": ""
             }
            },
            "marker": {
             "colorbar": {
              "outlinewidth": 0,
              "ticks": ""
             }
            },
            "type": "scatter3d"
           }
          ],
          "scattercarpet": [
           {
            "marker": {
             "colorbar": {
              "outlinewidth": 0,
              "ticks": ""
             }
            },
            "type": "scattercarpet"
           }
          ],
          "scattergeo": [
           {
            "marker": {
             "colorbar": {
              "outlinewidth": 0,
              "ticks": ""
             }
            },
            "type": "scattergeo"
           }
          ],
          "scattergl": [
           {
            "marker": {
             "colorbar": {
              "outlinewidth": 0,
              "ticks": ""
             }
            },
            "type": "scattergl"
           }
          ],
          "scattermapbox": [
           {
            "marker": {
             "colorbar": {
              "outlinewidth": 0,
              "ticks": ""
             }
            },
            "type": "scattermapbox"
           }
          ],
          "scatterpolar": [
           {
            "marker": {
             "colorbar": {
              "outlinewidth": 0,
              "ticks": ""
             }
            },
            "type": "scatterpolar"
           }
          ],
          "scatterpolargl": [
           {
            "marker": {
             "colorbar": {
              "outlinewidth": 0,
              "ticks": ""
             }
            },
            "type": "scatterpolargl"
           }
          ],
          "scatterternary": [
           {
            "marker": {
             "colorbar": {
              "outlinewidth": 0,
              "ticks": ""
             }
            },
            "type": "scatterternary"
           }
          ],
          "surface": [
           {
            "colorbar": {
             "outlinewidth": 0,
             "ticks": ""
            },
            "colorscale": [
             [
              0,
              "#0d0887"
             ],
             [
              0.1111111111111111,
              "#46039f"
             ],
             [
              0.2222222222222222,
              "#7201a8"
             ],
             [
              0.3333333333333333,
              "#9c179e"
             ],
             [
              0.4444444444444444,
              "#bd3786"
             ],
             [
              0.5555555555555556,
              "#d8576b"
             ],
             [
              0.6666666666666666,
              "#ed7953"
             ],
             [
              0.7777777777777778,
              "#fb9f3a"
             ],
             [
              0.8888888888888888,
              "#fdca26"
             ],
             [
              1,
              "#f0f921"
             ]
            ],
            "type": "surface"
           }
          ],
          "table": [
           {
            "cells": {
             "fill": {
              "color": "#EBF0F8"
             },
             "line": {
              "color": "white"
             }
            },
            "header": {
             "fill": {
              "color": "#C8D4E3"
             },
             "line": {
              "color": "white"
             }
            },
            "type": "table"
           }
          ]
         },
         "layout": {
          "annotationdefaults": {
           "arrowcolor": "#2a3f5f",
           "arrowhead": 0,
           "arrowwidth": 1
          },
          "autotypenumbers": "strict",
          "coloraxis": {
           "colorbar": {
            "outlinewidth": 0,
            "ticks": ""
           }
          },
          "colorscale": {
           "diverging": [
            [
             0,
             "#8e0152"
            ],
            [
             0.1,
             "#c51b7d"
            ],
            [
             0.2,
             "#de77ae"
            ],
            [
             0.3,
             "#f1b6da"
            ],
            [
             0.4,
             "#fde0ef"
            ],
            [
             0.5,
             "#f7f7f7"
            ],
            [
             0.6,
             "#e6f5d0"
            ],
            [
             0.7,
             "#b8e186"
            ],
            [
             0.8,
             "#7fbc41"
            ],
            [
             0.9,
             "#4d9221"
            ],
            [
             1,
             "#276419"
            ]
           ],
           "sequential": [
            [
             0,
             "#0d0887"
            ],
            [
             0.1111111111111111,
             "#46039f"
            ],
            [
             0.2222222222222222,
             "#7201a8"
            ],
            [
             0.3333333333333333,
             "#9c179e"
            ],
            [
             0.4444444444444444,
             "#bd3786"
            ],
            [
             0.5555555555555556,
             "#d8576b"
            ],
            [
             0.6666666666666666,
             "#ed7953"
            ],
            [
             0.7777777777777778,
             "#fb9f3a"
            ],
            [
             0.8888888888888888,
             "#fdca26"
            ],
            [
             1,
             "#f0f921"
            ]
           ],
           "sequentialminus": [
            [
             0,
             "#0d0887"
            ],
            [
             0.1111111111111111,
             "#46039f"
            ],
            [
             0.2222222222222222,
             "#7201a8"
            ],
            [
             0.3333333333333333,
             "#9c179e"
            ],
            [
             0.4444444444444444,
             "#bd3786"
            ],
            [
             0.5555555555555556,
             "#d8576b"
            ],
            [
             0.6666666666666666,
             "#ed7953"
            ],
            [
             0.7777777777777778,
             "#fb9f3a"
            ],
            [
             0.8888888888888888,
             "#fdca26"
            ],
            [
             1,
             "#f0f921"
            ]
           ]
          },
          "colorway": [
           "#636efa",
           "#EF553B",
           "#00cc96",
           "#ab63fa",
           "#FFA15A",
           "#19d3f3",
           "#FF6692",
           "#B6E880",
           "#FF97FF",
           "#FECB52"
          ],
          "font": {
           "color": "#2a3f5f"
          },
          "geo": {
           "bgcolor": "white",
           "lakecolor": "white",
           "landcolor": "#E5ECF6",
           "showlakes": true,
           "showland": true,
           "subunitcolor": "white"
          },
          "hoverlabel": {
           "align": "left"
          },
          "hovermode": "closest",
          "mapbox": {
           "style": "light"
          },
          "paper_bgcolor": "white",
          "plot_bgcolor": "#E5ECF6",
          "polar": {
           "angularaxis": {
            "gridcolor": "white",
            "linecolor": "white",
            "ticks": ""
           },
           "bgcolor": "#E5ECF6",
           "radialaxis": {
            "gridcolor": "white",
            "linecolor": "white",
            "ticks": ""
           }
          },
          "scene": {
           "xaxis": {
            "backgroundcolor": "#E5ECF6",
            "gridcolor": "white",
            "gridwidth": 2,
            "linecolor": "white",
            "showbackground": true,
            "ticks": "",
            "zerolinecolor": "white"
           },
           "yaxis": {
            "backgroundcolor": "#E5ECF6",
            "gridcolor": "white",
            "gridwidth": 2,
            "linecolor": "white",
            "showbackground": true,
            "ticks": "",
            "zerolinecolor": "white"
           },
           "zaxis": {
            "backgroundcolor": "#E5ECF6",
            "gridcolor": "white",
            "gridwidth": 2,
            "linecolor": "white",
            "showbackground": true,
            "ticks": "",
            "zerolinecolor": "white"
           }
          },
          "shapedefaults": {
           "line": {
            "color": "#2a3f5f"
           }
          },
          "ternary": {
           "aaxis": {
            "gridcolor": "white",
            "linecolor": "white",
            "ticks": ""
           },
           "baxis": {
            "gridcolor": "white",
            "linecolor": "white",
            "ticks": ""
           },
           "bgcolor": "#E5ECF6",
           "caxis": {
            "gridcolor": "white",
            "linecolor": "white",
            "ticks": ""
           }
          },
          "title": {
           "x": 0.05
          },
          "xaxis": {
           "automargin": true,
           "gridcolor": "white",
           "linecolor": "white",
           "ticks": "",
           "title": {
            "standoff": 15
           },
           "zerolinecolor": "white",
           "zerolinewidth": 2
          },
          "yaxis": {
           "automargin": true,
           "gridcolor": "white",
           "linecolor": "white",
           "ticks": "",
           "title": {
            "standoff": 15
           },
           "zerolinecolor": "white",
           "zerolinewidth": 2
          }
         }
        },
        "title": {
         "text": "Sources that Contribute to CO2 Emissions"
        },
        "width": 900,
        "xaxis": {
         "anchor": "y",
         "domain": [
          0,
          1
         ],
         "title": {
          "text": "Year"
         }
        },
        "yaxis": {
         "anchor": "x",
         "domain": [
          0,
          1
         ],
         "title": {
          "text": "Amount of CO2 (tons)"
         }
        }
       }
      },
      "text/html": [
       "<div>                            <div id=\"ee0e5009-8855-4be0-a0b3-6efcdaaa7b88\" class=\"plotly-graph-div\" style=\"height:500px; width:900px;\"></div>            <script type=\"text/javascript\">                require([\"plotly\"], function(Plotly) {                    window.PLOTLYENV=window.PLOTLYENV || {};                                    if (document.getElementById(\"ee0e5009-8855-4be0-a0b3-6efcdaaa7b88\")) {                    Plotly.newPlot(                        \"ee0e5009-8855-4be0-a0b3-6efcdaaa7b88\",                        [{\"alignmentgroup\":\"True\",\"hovertemplate\":\"Source=Agriculture\\u003cbr\\u003eYear=%{x}\\u003cbr\\u003eAmount of CO2 (tons)=%{y}\\u003cextra\\u003e\\u003c\\u002fextra\\u003e\",\"legendgroup\":\"Agriculture\",\"marker\":{\"color\":\"#636efa\",\"pattern\":{\"shape\":\"\"}},\"name\":\"Agriculture\",\"offsetgroup\":\"Agriculture\",\"orientation\":\"v\",\"showlegend\":true,\"textposition\":\"auto\",\"x\":[1990,1991,1992,1993,1994,1995,1996,1997,1998,1999,2000,2001,2002,2003,2004,2005,2006,2007,2008,2009,2010,2011,2012,2013,2014,2015,2016,2017,2018,2019],\"xaxis\":\"x\",\"y\":[357820007.32421875,358929992.67578125,366450012.2070313,367600006.1035156,377510009.765625,375809997.55859375,380339996.3378906,378989990.234375,377299987.7929687,374730010.9863281,369040008.5449219,367000000.0,366359985.3515625,371290008.5449219,372859985.3515625,371769989.0136719,375399993.8964844,378980010.9863281,377600006.1035156,371690002.44140625,373600006.1035156,374929992.6757813,371850006.1035156,370940002.44140625,370820007.3242187,370070007.3242187,381450012.2070313,380869995.1171875,383989990.234375,381829986.5722656],\"yaxis\":\"y\",\"type\":\"bar\"},{\"alignmentgroup\":\"True\",\"hovertemplate\":\"Source=Waste\\u003cbr\\u003eYear=%{x}\\u003cbr\\u003eAmount of CO2 (tons)=%{y}\\u003cextra\\u003e\\u003c\\u002fextra\\u003e\",\"legendgroup\":\"Waste\",\"marker\":{\"color\":\"#EF553B\",\"pattern\":{\"shape\":\"\"}},\"name\":\"Waste\",\"offsetgroup\":\"Waste\",\"orientation\":\"v\",\"showlegend\":true,\"textposition\":\"auto\",\"x\":[1990,1991,1992,1993,1994,1995,1996,1997,1998,1999,2000,2001,2002,2003,2004,2005,2006,2007,2008,2009,2010,2011,2012,2013,2014,2015,2016,2017,2018,2019],\"xaxis\":\"x\",\"y\":[199339996.33789065,201899993.8964844,202080001.8310547,200220001.22070312,200520004.27246097,195750000.0,192389999.38964844,183259994.5068359,173820007.32421875,167630004.8828125,164690002.44140625,159809997.55859375,157990005.49316406,160860000.61035156,158529998.77929688,156440002.44140625,154350006.10351562,152339996.33789062,150220001.22070312,147449996.9482422,148270004.27246094,139229995.72753906,140309997.55859375,136429992.67578125,136100006.10351562,135199996.9482422,131029998.77929688,132130004.8828125,133240005.49316406,134350006.10351562],\"yaxis\":\"y\",\"type\":\"bar\"},{\"alignmentgroup\":\"True\",\"hovertemplate\":\"Source=Industry\\u003cbr\\u003eYear=%{x}\\u003cbr\\u003eAmount of CO2 (tons)=%{y}\\u003cextra\\u003e\\u003c\\u002fextra\\u003e\",\"legendgroup\":\"Industry\",\"marker\":{\"color\":\"#00cc96\",\"pattern\":{\"shape\":\"\"}},\"name\":\"Industry\",\"offsetgroup\":\"Industry\",\"orientation\":\"v\",\"showlegend\":true,\"textposition\":\"auto\",\"x\":[1990,1991,1992,1993,1994,1995,1996,1997,1998,1999,2000,2001,2002,2003,2004,2005,2006,2007,2008,2009,2010,2011,2012,2013,2014,2015,2016,2017,2018,2019],\"xaxis\":\"x\",\"y\":[164710006.7138672,154309997.55859375,157309997.55859375,160570007.32421875,165509994.50683594,187539993.2861328,197279998.77929688,198509994.5068359,209710006.7138672,206139999.38964844,208699996.9482422,192089996.33789065,202070007.32421875,191490005.4931641,199029998.77929688,204419998.1689453,208389999.38964844,221720001.22070312,208910003.66210935,190550003.0517578,204589996.33789065,217000000.0,210149993.8964844,209350006.1035156,219360000.61035156,221220001.22070312,222020004.27246097,227960006.7138672,231669998.1689453,238669998.1689453],\"yaxis\":\"y\",\"type\":\"bar\"},{\"alignmentgroup\":\"True\",\"hovertemplate\":\"Source=Manufacturing and construction\\u003cbr\\u003eYear=%{x}\\u003cbr\\u003eAmount of CO2 (tons)=%{y}\\u003cextra\\u003e\\u003c\\u002fextra\\u003e\",\"legendgroup\":\"Manufacturing and construction\",\"marker\":{\"color\":\"#ab63fa\",\"pattern\":{\"shape\":\"\"}},\"name\":\"Manufacturing and construction\",\"offsetgroup\":\"Manufacturing and construction\",\"orientation\":\"v\",\"showlegend\":true,\"textposition\":\"auto\",\"x\":[1990,1991,1992,1993,1994,1995,1996,1997,1998,1999,2000,2001,2002,2003,2004,2005,2006,2007,2008,2009,2010,2011,2012,2013,2014,2015,2016,2017,2018,2019],\"xaxis\":\"x\",\"y\":[606900024.4140625,569289978.0273438,520000000.0,534520019.53125,536950012.2070312,488950012.2070313,488029998.7792969,509029998.7792969,515150024.4140625,503350006.1035156,571299987.7929688,543770019.53125,494170013.4277344,488959991.4550781,515450012.2070313,481140014.6484375,500010009.765625,489980010.9863281,478519989.0136719,410850006.1035156,469899993.8964844,439100006.1035156,441920013.4277344,438239990.234375,440619995.1171875,437190002.44140625,442309997.55859375,432700012.2070313,457690002.44140625,442600006.1035156],\"yaxis\":\"y\",\"type\":\"bar\"},{\"alignmentgroup\":\"True\",\"hovertemplate\":\"Source=Transport\\u003cbr\\u003eYear=%{x}\\u003cbr\\u003eAmount of CO2 (tons)=%{y}\\u003cextra\\u003e\\u003c\\u002fextra\\u003e\",\"legendgroup\":\"Transport\",\"marker\":{\"color\":\"#FFA15A\",\"pattern\":{\"shape\":\"\"}},\"name\":\"Transport\",\"offsetgroup\":\"Transport\",\"orientation\":\"v\",\"showlegend\":true,\"textposition\":\"auto\",\"x\":[1990,1991,1992,1993,1994,1995,1996,1997,1998,1999,2000,2001,2002,2003,2004,2005,2006,2007,2008,2009,2010,2011,2012,2013,2014,2015,2016,2017,2018,2019],\"xaxis\":\"x\",\"y\":[1468599975.5859375,1440670043.9453125,1472869995.1171875,1497050048.828125,1551219970.703125,1583180053.7109375,1623420043.9453125,1648880004.8828125,1688189941.40625,1735150024.4140625,1767780029.296875,1770170043.9453125,1792969970.703125,1818939941.40625,1842000000.0,1861920043.9453125,1861329956.0546875,1862030029.296875,1761589965.8203125,1674020019.53125,1733130004.8828125,1686209960.9375,1650089965.8203125,1701510009.765625,1694599975.5859375,1756630004.8828125,1768760009.765625,1781510009.765625,1820880004.8828125,1815660034.1796875],\"yaxis\":\"y\",\"type\":\"bar\"},{\"alignmentgroup\":\"True\",\"hovertemplate\":\"Source=Electricity and heat\\u003cbr\\u003eYear=%{x}\\u003cbr\\u003eAmount of CO2 (tons)=%{y}\\u003cextra\\u003e\\u003c\\u002fextra\\u003e\",\"legendgroup\":\"Electricity and heat\",\"marker\":{\"color\":\"#19d3f3\",\"pattern\":{\"shape\":\"\"}},\"name\":\"Electricity and heat\",\"offsetgroup\":\"Electricity and heat\",\"orientation\":\"v\",\"showlegend\":true,\"textposition\":\"auto\",\"x\":[1990,1991,1992,1993,1994,1995,1996,1997,1998,1999,2000,2001,2002,2003,2004,2005,2006,2007,2008,2009,2010,2011,2012,2013,2014,2015,2016,2017,2018,2019],\"xaxis\":\"x\",\"y\":[2171629882.8125,2191739990.234375,2289280029.296875,2348060058.59375,2373439941.40625,2436260009.765625,2517459960.9375,2756790039.0625,2814449951.171875,2782070068.359375,2814149902.34375,2825560058.59375,2692120117.1875,2720100097.65625,2754540039.0625,2803760009.765625,2734979980.46875,2801709960.9375,2731600097.65625,2499979980.46875,2620929931.640625,2499530029.296875,2370169921.875,2388770019.53125,2386489990.234375,2243239990.234375,2154189941.40625,2072959960.9375,2105010009.765625,1965560058.59375],\"yaxis\":\"y\",\"type\":\"bar\"},{\"alignmentgroup\":\"True\",\"hovertemplate\":\"Source=Buildings\\u003cbr\\u003eYear=%{x}\\u003cbr\\u003eAmount of CO2 (tons)=%{y}\\u003cextra\\u003e\\u003c\\u002fextra\\u003e\",\"legendgroup\":\"Buildings\",\"marker\":{\"color\":\"#FF6692\",\"pattern\":{\"shape\":\"\"}},\"name\":\"Buildings\",\"offsetgroup\":\"Buildings\",\"orientation\":\"v\",\"showlegend\":true,\"textposition\":\"auto\",\"x\":[1990,1991,1992,1993,1994,1995,1996,1997,1998,1999,2000,2001,2002,2003,2004,2005,2006,2007,2008,2009,2010,2011,2012,2013,2014,2015,2016,2017,2018,2019],\"xaxis\":\"x\",\"y\":[547890014.6484375,557710021.9726562,567599975.5859375,593340026.8554688,583450012.2070312,588150024.4140625,624580017.0898438,607080017.0898438,555619995.1171875,573859985.3515625,605789978.0273438,587640014.6484375,588010009.765625,612109985.3515625,596640014.6484375,578880004.8828125,523429992.6757813,555320007.3242188,562809997.5585938,557739990.234375,552169982.9101562,529049987.7929687,466350006.1035156,535270019.53125,552640014.6484375,518710021.97265625,501940002.44140625,503029998.7792969,556969970.703125,557570007.3242188],\"yaxis\":\"y\",\"type\":\"bar\"},{\"alignmentgroup\":\"True\",\"hovertemplate\":\"Source=Fugitive emissions\\u003cbr\\u003eYear=%{x}\\u003cbr\\u003eAmount of CO2 (tons)=%{y}\\u003cextra\\u003e\\u003c\\u002fextra\\u003e\",\"legendgroup\":\"Fugitive emissions\",\"marker\":{\"color\":\"#B6E880\",\"pattern\":{\"shape\":\"\"}},\"name\":\"Fugitive emissions\",\"offsetgroup\":\"Fugitive emissions\",\"orientation\":\"v\",\"showlegend\":true,\"textposition\":\"auto\",\"x\":[1990,1991,1992,1993,1994,1995,1996,1997,1998,1999,2000,2001,2002,2003,2004,2005,2006,2007,2008,2009,2010,2011,2012,2013,2014,2015,2016,2017,2018,2019],\"xaxis\":\"x\",\"y\":[248190002.44140625,247169998.1689453,246850006.1035156,237759994.5068359,243899993.8964844,244809997.55859375,245759994.5068359,247850006.1035156,246410003.66210935,240690002.44140625,241259994.5068359,242039993.2861328,238190002.44140625,236380004.8828125,236710006.7138672,239039993.2861328,242410003.66210935,249149993.8964844,258600006.1035156,255649993.8964844,272440002.44140625,295859985.3515625,313570007.32421875,320890014.6484375,348000000.0,351160003.6621094,325649993.8964844,341570007.32421875,385260009.765625,425070007.3242187],\"yaxis\":\"y\",\"type\":\"bar\"},{\"alignmentgroup\":\"True\",\"hovertemplate\":\"Source=Other fuel combustion\\u003cbr\\u003eYear=%{x}\\u003cbr\\u003eAmount of CO2 (tons)=%{y}\\u003cextra\\u003e\\u003c\\u002fextra\\u003e\",\"legendgroup\":\"Other fuel combustion\",\"marker\":{\"color\":\"#FF97FF\",\"pattern\":{\"shape\":\"\"}},\"name\":\"Other fuel combustion\",\"offsetgroup\":\"Other fuel combustion\",\"orientation\":\"v\",\"showlegend\":true,\"textposition\":\"auto\",\"x\":[1990,1991,1992,1993,1994,1995,1996,1997,1998,1999,2000,2001,2002,2003,2004,2005,2006,2007,2008,2009,2010,2011,2012,2013,2014,2015,2016,2017,2018,2019],\"xaxis\":\"x\",\"y\":[69050003.05175781,67180000.30517578,50520000.45776367,45250000.0,46020000.45776367,46060001.373291016,47200000.76293945,47669998.16894531,43799999.23706055,41669998.16894531,44779998.779296875,47939998.626708984,50750000.0,45490001.6784668,56520000.45776367,55470001.220703125,60509998.3215332,56240001.6784668,53979999.54223633,50459999.084472656,52110000.61035156,48700000.76293945,46709999.084472656,50770000.45776367,48779998.779296875,48740001.6784668,46849998.474121094,46029998.779296875,46909999.84741211,39900001.525878906],\"yaxis\":\"y\",\"type\":\"bar\"},{\"alignmentgroup\":\"True\",\"hovertemplate\":\"Source=Aviation and shipping\\u003cbr\\u003eYear=%{x}\\u003cbr\\u003eAmount of CO2 (tons)=%{y}\\u003cextra\\u003e\\u003c\\u002fextra\\u003e\",\"legendgroup\":\"Aviation and shipping\",\"marker\":{\"color\":\"#FECB52\",\"pattern\":{\"shape\":\"\"}},\"name\":\"Aviation and shipping\",\"offsetgroup\":\"Aviation and shipping\",\"orientation\":\"v\",\"showlegend\":true,\"textposition\":\"auto\",\"x\":[1990,1991,1992,1993,1994,1995,1996,1997,1998,1999,2000,2001,2002,2003,2004,2005,2006,2007,2008,2009,2010,2011,2012,2013,2014,2015,2016,2017,2018,2019],\"xaxis\":\"x\",\"y\":[132080001.83105467,138410003.66210938,145369995.1171875,133740005.49316406,131410003.66210938,139199996.9482422,135899993.89648438,127930000.30517578,127680000.30517578,141820007.32421875,148919998.1689453,115360000.61035156,140130004.8828125,124230003.3569336,142559997.55859375,152929992.67578125,159800003.0517578,169669998.1689453,155529998.77929688,142470001.22070312,150210006.7138672,147009994.50683594,120510002.13623048,119430000.30517578,120069999.69482422,125639999.38964844,138119995.1171875,149619995.1171875,140919998.1689453,150169998.1689453],\"yaxis\":\"y\",\"type\":\"bar\"}],                        {\"template\":{\"data\":{\"histogram2dcontour\":[{\"type\":\"histogram2dcontour\",\"colorbar\":{\"outlinewidth\":0,\"ticks\":\"\"},\"colorscale\":[[0.0,\"#0d0887\"],[0.1111111111111111,\"#46039f\"],[0.2222222222222222,\"#7201a8\"],[0.3333333333333333,\"#9c179e\"],[0.4444444444444444,\"#bd3786\"],[0.5555555555555556,\"#d8576b\"],[0.6666666666666666,\"#ed7953\"],[0.7777777777777778,\"#fb9f3a\"],[0.8888888888888888,\"#fdca26\"],[1.0,\"#f0f921\"]]}],\"choropleth\":[{\"type\":\"choropleth\",\"colorbar\":{\"outlinewidth\":0,\"ticks\":\"\"}}],\"histogram2d\":[{\"type\":\"histogram2d\",\"colorbar\":{\"outlinewidth\":0,\"ticks\":\"\"},\"colorscale\":[[0.0,\"#0d0887\"],[0.1111111111111111,\"#46039f\"],[0.2222222222222222,\"#7201a8\"],[0.3333333333333333,\"#9c179e\"],[0.4444444444444444,\"#bd3786\"],[0.5555555555555556,\"#d8576b\"],[0.6666666666666666,\"#ed7953\"],[0.7777777777777778,\"#fb9f3a\"],[0.8888888888888888,\"#fdca26\"],[1.0,\"#f0f921\"]]}],\"heatmap\":[{\"type\":\"heatmap\",\"colorbar\":{\"outlinewidth\":0,\"ticks\":\"\"},\"colorscale\":[[0.0,\"#0d0887\"],[0.1111111111111111,\"#46039f\"],[0.2222222222222222,\"#7201a8\"],[0.3333333333333333,\"#9c179e\"],[0.4444444444444444,\"#bd3786\"],[0.5555555555555556,\"#d8576b\"],[0.6666666666666666,\"#ed7953\"],[0.7777777777777778,\"#fb9f3a\"],[0.8888888888888888,\"#fdca26\"],[1.0,\"#f0f921\"]]}],\"heatmapgl\":[{\"type\":\"heatmapgl\",\"colorbar\":{\"outlinewidth\":0,\"ticks\":\"\"},\"colorscale\":[[0.0,\"#0d0887\"],[0.1111111111111111,\"#46039f\"],[0.2222222222222222,\"#7201a8\"],[0.3333333333333333,\"#9c179e\"],[0.4444444444444444,\"#bd3786\"],[0.5555555555555556,\"#d8576b\"],[0.6666666666666666,\"#ed7953\"],[0.7777777777777778,\"#fb9f3a\"],[0.8888888888888888,\"#fdca26\"],[1.0,\"#f0f921\"]]}],\"contourcarpet\":[{\"type\":\"contourcarpet\",\"colorbar\":{\"outlinewidth\":0,\"ticks\":\"\"}}],\"contour\":[{\"type\":\"contour\",\"colorbar\":{\"outlinewidth\":0,\"ticks\":\"\"},\"colorscale\":[[0.0,\"#0d0887\"],[0.1111111111111111,\"#46039f\"],[0.2222222222222222,\"#7201a8\"],[0.3333333333333333,\"#9c179e\"],[0.4444444444444444,\"#bd3786\"],[0.5555555555555556,\"#d8576b\"],[0.6666666666666666,\"#ed7953\"],[0.7777777777777778,\"#fb9f3a\"],[0.8888888888888888,\"#fdca26\"],[1.0,\"#f0f921\"]]}],\"surface\":[{\"type\":\"surface\",\"colorbar\":{\"outlinewidth\":0,\"ticks\":\"\"},\"colorscale\":[[0.0,\"#0d0887\"],[0.1111111111111111,\"#46039f\"],[0.2222222222222222,\"#7201a8\"],[0.3333333333333333,\"#9c179e\"],[0.4444444444444444,\"#bd3786\"],[0.5555555555555556,\"#d8576b\"],[0.6666666666666666,\"#ed7953\"],[0.7777777777777778,\"#fb9f3a\"],[0.8888888888888888,\"#fdca26\"],[1.0,\"#f0f921\"]]}],\"mesh3d\":[{\"type\":\"mesh3d\",\"colorbar\":{\"outlinewidth\":0,\"ticks\":\"\"}}],\"scatter\":[{\"fillpattern\":{\"fillmode\":\"overlay\",\"size\":10,\"solidity\":0.2},\"type\":\"scatter\"}],\"parcoords\":[{\"type\":\"parcoords\",\"line\":{\"colorbar\":{\"outlinewidth\":0,\"ticks\":\"\"}}}],\"scatterpolargl\":[{\"type\":\"scatterpolargl\",\"marker\":{\"colorbar\":{\"outlinewidth\":0,\"ticks\":\"\"}}}],\"bar\":[{\"error_x\":{\"color\":\"#2a3f5f\"},\"error_y\":{\"color\":\"#2a3f5f\"},\"marker\":{\"line\":{\"color\":\"#E5ECF6\",\"width\":0.5},\"pattern\":{\"fillmode\":\"overlay\",\"size\":10,\"solidity\":0.2}},\"type\":\"bar\"}],\"scattergeo\":[{\"type\":\"scattergeo\",\"marker\":{\"colorbar\":{\"outlinewidth\":0,\"ticks\":\"\"}}}],\"scatterpolar\":[{\"type\":\"scatterpolar\",\"marker\":{\"colorbar\":{\"outlinewidth\":0,\"ticks\":\"\"}}}],\"histogram\":[{\"marker\":{\"pattern\":{\"fillmode\":\"overlay\",\"size\":10,\"solidity\":0.2}},\"type\":\"histogram\"}],\"scattergl\":[{\"type\":\"scattergl\",\"marker\":{\"colorbar\":{\"outlinewidth\":0,\"ticks\":\"\"}}}],\"scatter3d\":[{\"type\":\"scatter3d\",\"line\":{\"colorbar\":{\"outlinewidth\":0,\"ticks\":\"\"}},\"marker\":{\"colorbar\":{\"outlinewidth\":0,\"ticks\":\"\"}}}],\"scattermapbox\":[{\"type\":\"scattermapbox\",\"marker\":{\"colorbar\":{\"outlinewidth\":0,\"ticks\":\"\"}}}],\"scatterternary\":[{\"type\":\"scatterternary\",\"marker\":{\"colorbar\":{\"outlinewidth\":0,\"ticks\":\"\"}}}],\"scattercarpet\":[{\"type\":\"scattercarpet\",\"marker\":{\"colorbar\":{\"outlinewidth\":0,\"ticks\":\"\"}}}],\"carpet\":[{\"aaxis\":{\"endlinecolor\":\"#2a3f5f\",\"gridcolor\":\"white\",\"linecolor\":\"white\",\"minorgridcolor\":\"white\",\"startlinecolor\":\"#2a3f5f\"},\"baxis\":{\"endlinecolor\":\"#2a3f5f\",\"gridcolor\":\"white\",\"linecolor\":\"white\",\"minorgridcolor\":\"white\",\"startlinecolor\":\"#2a3f5f\"},\"type\":\"carpet\"}],\"table\":[{\"cells\":{\"fill\":{\"color\":\"#EBF0F8\"},\"line\":{\"color\":\"white\"}},\"header\":{\"fill\":{\"color\":\"#C8D4E3\"},\"line\":{\"color\":\"white\"}},\"type\":\"table\"}],\"barpolar\":[{\"marker\":{\"line\":{\"color\":\"#E5ECF6\",\"width\":0.5},\"pattern\":{\"fillmode\":\"overlay\",\"size\":10,\"solidity\":0.2}},\"type\":\"barpolar\"}],\"pie\":[{\"automargin\":true,\"type\":\"pie\"}]},\"layout\":{\"autotypenumbers\":\"strict\",\"colorway\":[\"#636efa\",\"#EF553B\",\"#00cc96\",\"#ab63fa\",\"#FFA15A\",\"#19d3f3\",\"#FF6692\",\"#B6E880\",\"#FF97FF\",\"#FECB52\"],\"font\":{\"color\":\"#2a3f5f\"},\"hovermode\":\"closest\",\"hoverlabel\":{\"align\":\"left\"},\"paper_bgcolor\":\"white\",\"plot_bgcolor\":\"#E5ECF6\",\"polar\":{\"bgcolor\":\"#E5ECF6\",\"angularaxis\":{\"gridcolor\":\"white\",\"linecolor\":\"white\",\"ticks\":\"\"},\"radialaxis\":{\"gridcolor\":\"white\",\"linecolor\":\"white\",\"ticks\":\"\"}},\"ternary\":{\"bgcolor\":\"#E5ECF6\",\"aaxis\":{\"gridcolor\":\"white\",\"linecolor\":\"white\",\"ticks\":\"\"},\"baxis\":{\"gridcolor\":\"white\",\"linecolor\":\"white\",\"ticks\":\"\"},\"caxis\":{\"gridcolor\":\"white\",\"linecolor\":\"white\",\"ticks\":\"\"}},\"coloraxis\":{\"colorbar\":{\"outlinewidth\":0,\"ticks\":\"\"}},\"colorscale\":{\"sequential\":[[0.0,\"#0d0887\"],[0.1111111111111111,\"#46039f\"],[0.2222222222222222,\"#7201a8\"],[0.3333333333333333,\"#9c179e\"],[0.4444444444444444,\"#bd3786\"],[0.5555555555555556,\"#d8576b\"],[0.6666666666666666,\"#ed7953\"],[0.7777777777777778,\"#fb9f3a\"],[0.8888888888888888,\"#fdca26\"],[1.0,\"#f0f921\"]],\"sequentialminus\":[[0.0,\"#0d0887\"],[0.1111111111111111,\"#46039f\"],[0.2222222222222222,\"#7201a8\"],[0.3333333333333333,\"#9c179e\"],[0.4444444444444444,\"#bd3786\"],[0.5555555555555556,\"#d8576b\"],[0.6666666666666666,\"#ed7953\"],[0.7777777777777778,\"#fb9f3a\"],[0.8888888888888888,\"#fdca26\"],[1.0,\"#f0f921\"]],\"diverging\":[[0,\"#8e0152\"],[0.1,\"#c51b7d\"],[0.2,\"#de77ae\"],[0.3,\"#f1b6da\"],[0.4,\"#fde0ef\"],[0.5,\"#f7f7f7\"],[0.6,\"#e6f5d0\"],[0.7,\"#b8e186\"],[0.8,\"#7fbc41\"],[0.9,\"#4d9221\"],[1,\"#276419\"]]},\"xaxis\":{\"gridcolor\":\"white\",\"linecolor\":\"white\",\"ticks\":\"\",\"title\":{\"standoff\":15},\"zerolinecolor\":\"white\",\"automargin\":true,\"zerolinewidth\":2},\"yaxis\":{\"gridcolor\":\"white\",\"linecolor\":\"white\",\"ticks\":\"\",\"title\":{\"standoff\":15},\"zerolinecolor\":\"white\",\"automargin\":true,\"zerolinewidth\":2},\"scene\":{\"xaxis\":{\"backgroundcolor\":\"#E5ECF6\",\"gridcolor\":\"white\",\"linecolor\":\"white\",\"showbackground\":true,\"ticks\":\"\",\"zerolinecolor\":\"white\",\"gridwidth\":2},\"yaxis\":{\"backgroundcolor\":\"#E5ECF6\",\"gridcolor\":\"white\",\"linecolor\":\"white\",\"showbackground\":true,\"ticks\":\"\",\"zerolinecolor\":\"white\",\"gridwidth\":2},\"zaxis\":{\"backgroundcolor\":\"#E5ECF6\",\"gridcolor\":\"white\",\"linecolor\":\"white\",\"showbackground\":true,\"ticks\":\"\",\"zerolinecolor\":\"white\",\"gridwidth\":2}},\"shapedefaults\":{\"line\":{\"color\":\"#2a3f5f\"}},\"annotationdefaults\":{\"arrowcolor\":\"#2a3f5f\",\"arrowhead\":0,\"arrowwidth\":1},\"geo\":{\"bgcolor\":\"white\",\"landcolor\":\"#E5ECF6\",\"subunitcolor\":\"white\",\"showland\":true,\"showlakes\":true,\"lakecolor\":\"white\"},\"title\":{\"x\":0.05},\"mapbox\":{\"style\":\"light\"}}},\"xaxis\":{\"anchor\":\"y\",\"domain\":[0.0,1.0],\"title\":{\"text\":\"Year\"}},\"yaxis\":{\"anchor\":\"x\",\"domain\":[0.0,1.0],\"title\":{\"text\":\"Amount of CO2 (tons)\"}},\"legend\":{\"title\":{\"text\":\"Source\"},\"tracegroupgap\":0},\"title\":{\"text\":\"Sources that Contribute to CO2 Emissions\"},\"barmode\":\"relative\",\"autosize\":false,\"width\":900,\"height\":500},                        {\"responsive\": true}                    ).then(function(){\n",
       "                            \n",
       "var gd = document.getElementById('ee0e5009-8855-4be0-a0b3-6efcdaaa7b88');\n",
       "var x = new MutationObserver(function (mutations, observer) {{\n",
       "        var display = window.getComputedStyle(gd).display;\n",
       "        if (!display || display === 'none') {{\n",
       "            console.log([gd, 'removed!']);\n",
       "            Plotly.purge(gd);\n",
       "            observer.disconnect();\n",
       "        }}\n",
       "}});\n",
       "\n",
       "// Listen for the removal of the full notebook cells\n",
       "var notebookContainer = gd.closest('#notebook-container');\n",
       "if (notebookContainer) {{\n",
       "    x.observe(notebookContainer, {childList: true});\n",
       "}}\n",
       "\n",
       "// Listen for the clearing of the current output cell\n",
       "var outputEl = gd.closest('.output');\n",
       "if (outputEl) {{\n",
       "    x.observe(outputEl, {childList: true});\n",
       "}}\n",
       "\n",
       "                        })                };                });            </script>        </div>"
      ]
     },
     "metadata": {},
     "output_type": "display_data"
    }
   ],
   "source": [
    "# bar chart of co2 makeup\n",
    "fig = px.bar(data_frame=data, x=data.Year, y=factors,\n",
    "      title='Sources that Contribute to CO2 Emissions',\n",
    "      labels={'value': 'Amount of CO2 (tons)',\n",
    "\n",
    "              'variable': 'Source'})\n",
    "fig.update_layout(autosize=False, \n",
    "                  width=900, \n",
    "                  height=500,)\n",
    "fig.show()"
   ]
  }
 ],
 "metadata": {
  "kernelspec": {
   "display_name": "Python 3 (ipykernel)",
   "language": "python",
   "name": "python3"
  },
  "language_info": {
   "codemirror_mode": {
    "name": "ipython",
    "version": 3
   },
   "file_extension": ".py",
   "mimetype": "text/x-python",
   "name": "python",
   "nbconvert_exporter": "python",
   "pygments_lexer": "ipython3",
   "version": "3.10.11"
  }
 },
 "nbformat": 4,
 "nbformat_minor": 5
}
